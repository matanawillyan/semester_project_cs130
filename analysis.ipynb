{
 "cells": [
  {
   "cell_type": "code",
   "execution_count": null,
   "id": "142a9193-d881-4725-a58f-993f1a3ac6fe",
   "metadata": {},
   "outputs": [],
   "source": []
  }
 ],
 "metadata": {
  "kernelspec": {
   "display_name": "",
   "name": ""
  },
  "language_info": {
   "name": ""
  }
 },
 "nbformat": 4,
 "nbformat_minor": 5
}
